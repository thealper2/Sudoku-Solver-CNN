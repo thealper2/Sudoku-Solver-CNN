{
 "cells": [
  {
   "cell_type": "code",
   "execution_count": null,
   "metadata": {
    "_cell_guid": "b1076dfc-b9ad-4769-8c92-a6c4dae69d19",
    "_uuid": "8f2839f25d086af736a60e9eeb907d3b93b6e0e5"
   },
   "outputs": [],
   "source": [
    "# This Python 3 environment comes with many helpful analytics libraries installed\n",
    "# It is defined by the kaggle/python Docker image: https://github.com/kaggle/docker-python\n",
    "# For example, here's several helpful packages to load\n",
    "\n",
    "import numpy as np # linear algebra\n",
    "import pandas as pd # data processing, CSV file I/O (e.g. pd.read_csv)\n",
    "\n",
    "# Input data files are available in the read-only \"../input/\" directory\n",
    "# For example, running this (by clicking run or pressing Shift+Enter) will list all files under the input directory\n",
    "\n",
    "import os\n",
    "for dirname, _, filenames in os.walk('/kaggle/input'):\n",
    "    for filename in filenames:\n",
    "        print(os.path.join(dirname, filename))\n",
    "\n",
    "# You can write up to 20GB to the current directory (/kaggle/working/) that gets preserved as output when you create a version using \"Save & Run All\" \n",
    "# You can also write temporary files to /kaggle/temp/, but they won't be saved outside of the current session"
   ]
  },
  {
   "cell_type": "markdown",
   "metadata": {},
   "source": [
    "# Import Libraries"
   ]
  },
  {
   "cell_type": "code",
   "execution_count": null,
   "metadata": {},
   "outputs": [],
   "source": [
    "!pip install --quiet imutils"
   ]
  },
  {
   "cell_type": "code",
   "execution_count": null,
   "metadata": {},
   "outputs": [],
   "source": [
    "import os\n",
    "os.environ[\"TF_CPP_MIN_LOG_LEVEL\"] = \"3\"\n",
    "\n",
    "import numpy as np\n",
    "import pandas as pd\n",
    "\n",
    "import pytesseract\n",
    "import matplotlib.pyplot as plt\n",
    "import cv2\n",
    "from imutils import perspective\n",
    "from PIL import Image\n",
    "\n",
    "import tensorflow as tf\n",
    "from tensorflow.keras import layers, models, optimizers, losses\n",
    "from tensorflow.keras.utils import plot_model\n",
    "from tensorflow.keras.callbacks import EarlyStopping\n",
    "\n",
    "from sklearn.model_selection import train_test_split"
   ]
  },
  {
   "cell_type": "markdown",
   "metadata": {},
   "source": [
    "# Load Data"
   ]
  },
  {
   "cell_type": "code",
   "execution_count": null,
   "metadata": {},
   "outputs": [],
   "source": [
    "df = pd.read_csv(\"/kaggle/input/sudoku/sudoku.csv\")\n",
    "df.head()"
   ]
  },
  {
   "cell_type": "code",
   "execution_count": null,
   "metadata": {},
   "outputs": [],
   "source": [
    "X = np.array(df['quizzes'].apply(lambda x: [*map(int, x)]).tolist()).reshape(-1, 9, 9, 1)\n",
    "Y = np.array(df['solutions'].apply(lambda x: [*map(int, x)]).tolist()).reshape(-1, 9, 9) - 1"
   ]
  },
  {
   "cell_type": "code",
   "execution_count": null,
   "metadata": {},
   "outputs": [],
   "source": [
    "X_train, X_test, y_train, y_test = train_test_split(X, Y, test_size=0.1, random_state=42)"
   ]
  },
  {
   "cell_type": "markdown",
   "metadata": {},
   "source": [
    "# Model"
   ]
  },
  {
   "cell_type": "code",
   "execution_count": null,
   "metadata": {},
   "outputs": [],
   "source": [
    "input_layer = layers.Input(shape=X_train.shape[1:])\n",
    "\n",
    "conv2_1 = layers.Conv2D(32, (3, 3), activation=\"relu\", padding=\"same\")(input_layer)\n",
    "batchnorm_1 = layers.BatchNormalization()(conv2_1)\n",
    "\n",
    "conv2_2 = layers.Conv2D(64, (3, 3), activation=\"relu\", padding=\"same\")(batchnorm_1)\n",
    "batchnorm_2 = layers.BatchNormalization()(conv2_2)\n",
    "\n",
    "conv2_3 = layers.Conv2D(128, (3, 3), activation=\"relu\", padding=\"same\")(batchnorm_2)\n",
    "batchnorm_3 = layers.BatchNormalization()(conv2_3)\n",
    "\n",
    "conv2_4 = layers.Conv2D(9, 1, activation=\"relu\", padding=\"same\")(batchnorm_3)\n",
    "flat_layer = layers.Flatten()(conv2_4)\n",
    "\n",
    "dense_1 = layers.Dense(512)(flat_layer)\n",
    "dense_2 = layers.Dense(81 * 9)(dense_1)\n",
    "\n",
    "reshape_layer = layers.Reshape((9, 9, 9))(dense_2)\n",
    "\n",
    "activation_layer = layers.Activation(\"softmax\")(reshape_layer)\n",
    "\n",
    "model = models.Model(input_layer, activation_layer)\n",
    "\n",
    "model.summary()"
   ]
  },
  {
   "cell_type": "code",
   "execution_count": null,
   "metadata": {},
   "outputs": [],
   "source": [
    "model.compile(loss=\"sparse_categorical_crossentropy\",\n",
    "              optimizer=\"rmsprop\",\n",
    "              metrics=[\"accuracy\"])"
   ]
  },
  {
   "cell_type": "code",
   "execution_count": null,
   "metadata": {},
   "outputs": [],
   "source": [
    "plot_model(model, show_layer_names=True, show_shapes=True)"
   ]
  },
  {
   "cell_type": "markdown",
   "metadata": {},
   "source": [
    "# Train"
   ]
  },
  {
   "cell_type": "code",
   "execution_count": null,
   "metadata": {},
   "outputs": [],
   "source": [
    "early_stopping = EarlyStopping(monitor=\"val_loss\", patience=3)"
   ]
  },
  {
   "cell_type": "code",
   "execution_count": null,
   "metadata": {},
   "outputs": [],
   "source": [
    "history = model.fit(\n",
    "    X_train, y_train,\n",
    "    batch_size=64,\n",
    "    epochs=25,\n",
    "    validation_split=0.1,\n",
    "    callbacks=[early_stopping]\n",
    ")"
   ]
  },
  {
   "cell_type": "code",
   "execution_count": null,
   "metadata": {},
   "outputs": [],
   "source": [
    "test_loss, test_acc = model.evaluate(X_test, y_test)\n",
    "print(\"Test Loss:\", test_loss)\n",
    "print(\"Test Accuracy:\", test_acc)"
   ]
  },
  {
   "cell_type": "markdown",
   "metadata": {},
   "source": [
    "# Results"
   ]
  },
  {
   "cell_type": "code",
   "execution_count": null,
   "metadata": {},
   "outputs": [],
   "source": [
    "plt.figure()\n",
    "plt.plot(history.history[\"accuracy\"])\n",
    "plt.plot(history.history[\"val_accuracy\"])\n",
    "plt.xlabel(\"Epoch\")\n",
    "plt.ylabel(\"Accuracy\")\n",
    "plt.legend([\"train\", \"valid\"])\n",
    "plt.title(\"Accuracy Curve\")\n",
    "plt.ylim([0, 1])\n",
    "plt.show()"
   ]
  },
  {
   "cell_type": "code",
   "execution_count": null,
   "metadata": {},
   "outputs": [],
   "source": [
    "plt.figure()\n",
    "plt.plot(history.history[\"loss\"])\n",
    "plt.plot(history.history[\"val_loss\"])\n",
    "plt.xlabel(\"Epoch\")\n",
    "plt.ylabel(\"Loss\")\n",
    "plt.legend([\"train\", \"valid\"])\n",
    "plt.title(\"Loss Curve\")\n",
    "plt.ylim([0, 1])\n",
    "plt.show()"
   ]
  },
  {
   "cell_type": "markdown",
   "metadata": {},
   "source": [
    "# Test"
   ]
  },
  {
   "cell_type": "code",
   "execution_count": null,
   "metadata": {},
   "outputs": [],
   "source": [
    "image_path = \"/kaggle/input/d/ahmedashrafahmed/sudoku/sudoku.jpg\""
   ]
  },
  {
   "cell_type": "code",
   "execution_count": null,
   "metadata": {},
   "outputs": [],
   "source": [
    "image = cv2.imread(image_path)\n",
    "image = cv2.cvtColor(image, cv2.COLOR_BGR2RGB)"
   ]
  },
  {
   "cell_type": "code",
   "execution_count": null,
   "metadata": {},
   "outputs": [],
   "source": [
    "gray = cv2.imread(image_path)\n",
    "gray = cv2.cvtColor(gray, cv2.COLOR_BGR2GRAY)\n",
    "ret, binary_image = cv2.threshold(gray, 0, 255, cv2.THRESH_OTSU | cv2.THRESH_BINARY_INV)"
   ]
  },
  {
   "cell_type": "code",
   "execution_count": null,
   "metadata": {},
   "outputs": [],
   "source": [
    "contours, hierarchy = cv2.findContours(binary_image, cv2.RETR_EXTERNAL, cv2.CHAIN_APPROX_SIMPLE)"
   ]
  },
  {
   "cell_type": "code",
   "execution_count": null,
   "metadata": {},
   "outputs": [],
   "source": [
    "length = cv2.arcLength(contours[96], True)\n",
    "approx = cv2.approxPolyDP(contours[96], 0.002 * length, True)"
   ]
  },
  {
   "cell_type": "code",
   "execution_count": null,
   "metadata": {},
   "outputs": [],
   "source": [
    "wrapped = perspective.four_point_transform(image, approx.squeeze())"
   ]
  },
  {
   "cell_type": "code",
   "execution_count": null,
   "metadata": {},
   "outputs": [],
   "source": [
    "wrapped_gray = cv2.cvtColor(wrapped, cv2.COLOR_RGB2GRAY)\n",
    "ret, wrapped_binary = cv2.threshold(wrapped_gray, 0, 255, cv2.THRESH_OTSU | cv2.THRESH_BINARY_INV)"
   ]
  },
  {
   "cell_type": "code",
   "execution_count": null,
   "metadata": {},
   "outputs": [],
   "source": [
    "wrapped_binary = cv2.resize(wrapped_binary, (450, 450))"
   ]
  },
  {
   "cell_type": "code",
   "execution_count": null,
   "metadata": {},
   "outputs": [],
   "source": [
    "def split_cells(image):\n",
    "    rows = np.vsplit(image, 9)\n",
    "    boxes = []\n",
    "    for row in rows:\n",
    "        boxs = np.hsplit(row, 9)\n",
    "        for box in boxs:\n",
    "            box = np.array(box)\n",
    "            box = box[5:50, 5:50]\n",
    "            box = Image.fromarray(box)\n",
    "            boxes.append(box)\n",
    "\n",
    "    return boxes"
   ]
  },
  {
   "cell_type": "code",
   "execution_count": null,
   "metadata": {},
   "outputs": [],
   "source": [
    "sudoku_cells = split_cells(wrapped_binary)"
   ]
  },
  {
   "cell_type": "code",
   "execution_count": null,
   "metadata": {},
   "outputs": [],
   "source": [
    "fig, axes = plt.subplots(nrows=9, ncols=9, figsize=(20, 20))\n",
    "for idx, sudoku_cell in enumerate(sudoku_cells):\n",
    "    axes[idx // 9][idx % 9].imshow(sudoku_cell, cmap=\"gray\")\n",
    "    axes[idx // 9][idx % 9].axis(\"off\")\n",
    "plt.show()"
   ]
  },
  {
   "cell_type": "code",
   "execution_count": null,
   "metadata": {},
   "outputs": [],
   "source": [
    "sudoku = []\n",
    "\n",
    "for sudoku_cell in sudoku_cells:\n",
    "    number_text = pytesseract.image_to_string(sudoku_cell, config=\"--psm 10 --oem 3 -c tessedit_char_whitelist=123456789\")\n",
    "    try:\n",
    "        sudoku.append(int(number_text))\n",
    "    except:\n",
    "        sudoku.append(0)"
   ]
  },
  {
   "cell_type": "code",
   "execution_count": null,
   "metadata": {},
   "outputs": [],
   "source": [
    "sudoku = np.array(sudoku)"
   ]
  },
  {
   "cell_type": "code",
   "execution_count": null,
   "metadata": {},
   "outputs": [],
   "source": [
    "test_sudoku = sudoku.reshape((9, 9))\n",
    "test_sudoku"
   ]
  },
  {
   "cell_type": "code",
   "execution_count": null,
   "metadata": {},
   "outputs": [],
   "source": [
    "# fix\n",
    "test_sudoku[0][8] = 9\n",
    "\n",
    "test_sudoku[1][5] = 7\n",
    "\n",
    "test_sudoku[2][2] = 4\n",
    "test_sudoku[2][8] = 7\n",
    "\n",
    "test_sudoku[3][3] = 7\n",
    "test_sudoku[3][5] = 1\n",
    "test_sudoku[3][7] = 2\n",
    "\n",
    "test_sudoku[4][2] = 8\n",
    "test_sudoku[4][8] = 7\n",
    "\n",
    "test_sudoku[5][1] = 1\n",
    "test_sudoku[5][3] = 5\n",
    "test_sudoku[5][5] = 2\n",
    "test_sudoku[5][6] = 0\n",
    "\n",
    "test_sudoku[6][2] = 7\n",
    "test_sudoku[6][4] = 4\n",
    "\n",
    "test_sudoku[7][3] = 3\n",
    "test_sudoku[7][5] = 9\n",
    "test_sudoku[7][7] = 4\n",
    "\n",
    "test_sudoku[8][4] = 5\n",
    "test_sudoku[8][8] = 8"
   ]
  },
  {
   "cell_type": "code",
   "execution_count": null,
   "metadata": {},
   "outputs": [],
   "source": [
    "result = model.predict(test_sudoku.reshape(1, 9, 9, 1)).argmax(-1).squeeze() + 1\n",
    "result"
   ]
  },
  {
   "cell_type": "code",
   "execution_count": null,
   "metadata": {},
   "outputs": [],
   "source": [
    "def isValidSet(nums):\n",
    "    seen = set()\n",
    "    for num in nums:\n",
    "        if num != 0:\n",
    "            if num in seen:\n",
    "                return False\n",
    "            seen.add(num)\n",
    "    return True"
   ]
  },
  {
   "cell_type": "code",
   "execution_count": null,
   "metadata": {},
   "outputs": [],
   "source": [
    "def isValidSudoku(board):\n",
    "    for row in board:\n",
    "        if not isValidSet(row):\n",
    "            return False\n",
    "    \n",
    "    for col in zip(*board):\n",
    "        if not isValidSet(col):\n",
    "            return False\n",
    "    \n",
    "    for i in range(0, 9, 3):\n",
    "        for j in range(0, 9, 3):\n",
    "            square = [board[x][y] for x in range(i, i+3) for y in range(j, j+3)]\n",
    "            if not isValidSet(square):\n",
    "                return False\n",
    "    \n",
    "    return True"
   ]
  },
  {
   "cell_type": "code",
   "execution_count": null,
   "metadata": {},
   "outputs": [],
   "source": [
    "isValidSudoku(\n",
    "      [[8, 7, 3, 4, 1, 5, 4, 6, 9],\n",
    "       [9, 5, 9, 8, 3, 7, 4, 1, 4],\n",
    "       [1, 3, 4, 2, 9, 5, 8, 8, 2],\n",
    "       [4, 6, 3, 7, 8, 1, 5, 2, 5],\n",
    "       [5, 9, 8, 9, 6, 3, 1, 3, 7],\n",
    "       [7, 1, 3, 5, 8, 2, 8, 9, 6],\n",
    "       [1, 9, 7, 1, 4, 8, 6, 3, 3],\n",
    "       [6, 8, 5, 3, 7, 9, 5, 4, 5],\n",
    "       [3, 4, 6, 1, 5, 6, 9, 7, 8]]\n",
    ")"
   ]
  },
  {
   "cell_type": "code",
   "execution_count": null,
   "metadata": {},
   "outputs": [],
   "source": []
  }
 ],
 "metadata": {
  "kernelspec": {
   "display_name": "Python 3 (ipykernel)",
   "language": "python",
   "name": "python3"
  },
  "language_info": {
   "codemirror_mode": {
    "name": "ipython",
    "version": 3
   },
   "file_extension": ".py",
   "mimetype": "text/x-python",
   "name": "python",
   "nbconvert_exporter": "python",
   "pygments_lexer": "ipython3",
   "version": "3.10.12"
  }
 },
 "nbformat": 4,
 "nbformat_minor": 4
}
